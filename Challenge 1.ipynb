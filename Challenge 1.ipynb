{
 "cells": [
  {
   "cell_type": "code",
   "execution_count": 41,
   "metadata": {},
   "outputs": [
    {
     "name": "stdout",
     "output_type": "stream",
     "text": [
      "b'{\"id\":\"a8648804-d83c-49e0-bfcd-4db4f83d5913\",\"project\":\"e3a7cdce-af21-41d8-bbea-0343d1712ca1\",\"iteration\":\"23f535c6-9bb4-4240-bb9b-c3aba98a3a11\",\"created\":\"2018-09-04T03:47:02.8743599Z\",\"predictions\":[{\"probability\":0.9866511,\"tagId\":\"4d836948-8887-4058-a6b2-1419ee289808\",\"tagName\":\"Hardshell Jacket\"},{\"probability\":0.156628668,\"tagId\":\"86918aae-e05d-40cf-91b6-33dbc0fa70fc\",\"tagName\":\"Insulated Jacket\"}]}'\n"
     ]
    }
   ],
   "source": [
    "import http.client, urllib.request, urllib.parse, urllib.error, base64\n",
    "\n",
    "headers = {\n",
    "    # Request headers\n",
    "    'Prediction-Key': '2f320301d07144809488eb10eaf34c33',\n",
    "    'Content-Type': 'application/json',\n",
    "    'Prediction-key': '2f320301d07144809488eb10eaf34c33',\n",
    "}\n",
    "\n",
    "params = urllib.parse.urlencode({\n",
    "    # Request parameters\n",
    "    'iterationId': '{string}',\n",
    "    'application': '{string}',\n",
    "})\n",
    "\n",
    "try:\n",
    "    conn = http.client.HTTPSConnection('southcentralus.api.cognitive.microsoft.com')\n",
    "    conn.request(\"POST\", \"/customvision/v2.0/Prediction/e3a7cdce-af21-41d8-bbea-0343d1712ca1/url?%s\" % params, str({\"Url\": \"https://d7jxqb4cmc1sh.cloudfront.net/media/catalog/product/cache/1/thumbnail/600x600/9df78eab33525d08d6e5fb8d27136e95/4/08/7408.jpg\"})\n",
    ", headers)\n",
    "    response = conn.getresponse()\n",
    "    data = response.read()\n",
    "    print(data)\n",
    "    conn.close()\n",
    "except Exception as e:\n",
    "    print(\"[Errno {0}] {1}\".format(e.errno, e.strerror))"
   ]
  }
 ],
 "metadata": {
  "kernelspec": {
   "display_name": "Python 3",
   "language": "python",
   "name": "python3"
  },
  "language_info": {
   "codemirror_mode": {
    "name": "ipython",
    "version": 3
   },
   "file_extension": ".py",
   "mimetype": "text/x-python",
   "name": "python",
   "nbconvert_exporter": "python",
   "pygments_lexer": "ipython3",
   "version": "3.5.5"
  }
 },
 "nbformat": 4,
 "nbformat_minor": 2
}
