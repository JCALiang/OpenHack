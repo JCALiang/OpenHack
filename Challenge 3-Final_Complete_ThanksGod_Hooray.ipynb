{
 "cells": [
  {
   "cell_type": "code",
   "execution_count": 1,
   "metadata": {},
   "outputs": [],
   "source": [
    "import os\n",
    "import sklearn\n",
    "import numpy as np\n",
    "import matplotlib.pyplot as plt\n",
    "import matplotlib.image as mpimg\n",
    "from PIL import Image\n",
    "from collections import defaultdict\n",
    "from sklearn.model_selection import train_test_split"
   ]
  },
  {
   "cell_type": "code",
   "execution_count": 2,
   "metadata": {},
   "outputs": [],
   "source": [
    "##### import image dataset #####\n",
    "\n",
    "DATASET_LOCATION = './gear_images_new'\n",
    "imgcount = 0 #dataset size: 2122\n",
    "imglabel_db = defaultdict(list)\n",
    "for imgclass in os.listdir(DATASET_LOCATION):\n",
    "    #print(imgclass)\n",
    "    imgclass_path = DATASET_LOCATION + \"/\" + imgclass\n",
    "    #print(imgclass_path)\n",
    "    imgclass_arr = []\n",
    "    for filename in os.listdir(imgclass_path):\n",
    "        \n",
    "        img_path = imgclass_path + \"/\" + filename\n",
    "\n",
    "        #print(img_path)\n",
    "        #imgcount += 1\n",
    "        img = Image.open(img_path)\n",
    "        #convert images to RGB arrays\n",
    "        img_arr = np.array(img)\n",
    "        #print(img_arr.shape)\n",
    "        #print(img_arr)\n",
    "        #import image array into class array\n",
    "        #print(img_arr.ravel().shape) #flattened array should be size 128x128x3=49152\n",
    "        imgclass_arr.append(img_arr.ravel()) #ravel() defaults to row-wise flattening\n",
    "        img.close()\n",
    "        \n",
    "    #print(len(imgclass_arr))\n",
    "    #import class array into labelled dictionary\n",
    "#     print(imgclass_arr)\n",
    "\n",
    "    imglabel_db[imgclass]=imgclass_arr\n",
    "    \n"
   ]
  },
  {
   "cell_type": "code",
   "execution_count": 3,
   "metadata": {},
   "outputs": [],
   "source": [
    "##### split train and test datasets #####\n",
    "\n",
    "def datasplit(database, testSize):\n",
    "    #divide image data (X) and labels (y)\n",
    "\n",
    "    X = []\n",
    "    y = []\n",
    "   \n",
    "    for label in database:\n",
    "        for imgdata in database[label]:\n",
    "            X.append(imgdata)\n",
    "            y.append(label)\n",
    "            \n",
    "\n",
    "    #split X and y into train and test\n",
    "\n",
    "    X_train, X_test, y_train, y_test = train_test_split(X, y, test_size=testSize, random_state =42)\n",
    "\n",
    "    return X_train, y_train, X_test, y_test\n"
   ]
  },
  {
   "cell_type": "code",
   "execution_count": 4,
   "metadata": {},
   "outputs": [],
   "source": [
    "#classifiers\n",
    "\n",
    "\n",
    "###Random forest\n",
    "from sklearn.ensemble import RandomForestClassifier\n",
    "from sklearn.model_selection import train_test_split\n",
    "\n",
    "def randomForest(X,y):\n",
    "    clf = RandomForestClassifier()\n",
    "#     RandomForestClassifier(bootstrap=True, class_weight=None, criterion='gini',\n",
    "#            max_depth=None, max_features='auto', max_leaf_nodes=None,\n",
    "#            min_impurity_split=1e-07, min_samples_leaf=1,\n",
    "#            min_samples_split=2, min_weight_fraction_leaf=0.0,\n",
    "#            n_estimators=10, n_jobs=1, oob_score=False, random_state=None,\n",
    "#            verbose=0, warm_start=False)\n",
    "    clf.fit(X, y)\n",
    "    return clf\n",
    "\n"
   ]
  },
  {
   "cell_type": "code",
   "execution_count": 5,
   "metadata": {},
   "outputs": [],
   "source": [
    "### Nearest Neighbor\n",
    "\n",
    "\n",
    "from sklearn.neighbors import KNeighborsClassifier\n",
    "\n",
    "def knn(X, y, n): \n",
    "    clf = KNeighborsClassifier(n_neighbors=n, algorithm='ball_tree')\n",
    "    clf.fit(X, y) \n",
    "    return clf\n",
    "    \n",
    "\n"
   ]
  },
  {
   "cell_type": "code",
   "execution_count": 6,
   "metadata": {},
   "outputs": [],
   "source": [
    "### SVM\n",
    "### too long, does not work well. need to reduce dimension first\n",
    "\n",
    "from sklearn import svm\n",
    "from enum import Enum\n",
    "\n",
    "def svm_classifier(X, y):\n",
    "    clf = svm.SVC(kernel=\"rbf\")\n",
    "    clf.fit(X, y)  \n",
    "    return clf\n",
    "\n",
    "\n"
   ]
  },
  {
   "cell_type": "code",
   "execution_count": 7,
   "metadata": {},
   "outputs": [
    {
     "name": "stdout",
     "output_type": "stream",
     "text": [
      "Accuracy: 0.8069073783359497\n"
     ]
    }
   ],
   "source": [
    "######main \n",
    "\n",
    "from sklearn.metrics import accuracy_score\n",
    "\n",
    "\n",
    "train_x, train_y, test_x, test_y = datasplit(imglabel_db, 0.3)\n",
    "\n",
    "\n",
    "#decide a classifier to train data\n",
    "# classifier= svm_classifier(train_x, train_y)\n",
    "# classifier=randomForest(train_x,train_y)\n",
    "classifier=knn(train_x,train_y, 5)\n",
    "\n",
    "\n",
    "preds = classifier.predict(test_x)\n",
    "print(\"Accuracy:\", accuracy_score(test_y,preds))\n"
   ]
  },
  {
   "cell_type": "code",
   "execution_count": 74,
   "metadata": {},
   "outputs": [],
   "source": [
    "#######test result#########\n",
    "\n",
    "# 30% split\n",
    "# randomforest: 83%\n",
    "# knn with 3 neighbors: 82%\n",
    "# knn with 5 neightbors: 80%\n",
    "# svm:--couldn't be bother, take too long\n",
    "\n",
    "\n",
    "# 20% split\n",
    "# randomforest: 85%\n",
    "# knn with 3 neighbors: 83%\n",
    "# knn with 5 neightbors: 82%\n",
    "# svm: --couldn't be bother, take too long\n",
    "\n",
    "#10% split\n",
    "# randomforest: 84%\n",
    "# knn with 3 neighbors: 83%\n",
    "# knn with 5 neightbors: 81%\n",
    "# svm: --couldn't be bother, take too long\n",
    "\n",
    "\n"
   ]
  }
 ],
 "metadata": {
  "kernelspec": {
   "display_name": "Python 3",
   "language": "python",
   "name": "python3"
  },
  "language_info": {
   "codemirror_mode": {
    "name": "ipython",
    "version": 3
   },
   "file_extension": ".py",
   "mimetype": "text/x-python",
   "name": "python",
   "nbconvert_exporter": "python",
   "pygments_lexer": "ipython3",
   "version": "3.5.5"
  }
 },
 "nbformat": 4,
 "nbformat_minor": 2
}
